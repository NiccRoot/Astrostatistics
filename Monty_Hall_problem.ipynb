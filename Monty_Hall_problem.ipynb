{
 "cells": [
  {
   "cell_type": "markdown",
   "id": "4a770b4c",
   "metadata": {},
   "source": [
    "# Monty Hall problem simulation\n",
    "-Simulate three doors, one car, and two goats.\n",
    "\n",
    "-Simulate three players: the switcher, the conservative, and the newcomer.\n",
    "\n",
    "-Record who wins.\n",
    "\n",
    "-Repeat it many times.\n",
    "\n",
    "-Which player do you want to be?"
   ]
  },
  {
   "cell_type": "code",
   "execution_count": 5,
   "id": "10f67b7c",
   "metadata": {},
   "outputs": [
    {
     "name": "stdout",
     "output_type": "stream",
     "text": [
      "Switcher wins probability: 66.9\n",
      "Conservative wins probability: 33.1\n",
      "Newcomer wins probability: 49.7\n"
     ]
    }
   ],
   "source": [
    "import random\n",
    "\n",
    "# Set up the initial game\n",
    "doors = ['goat', 'goat', 'car']\n",
    "wins = {'switcher': 0, 'conservative': 0, 'newcomer': 0}\n",
    "\n",
    "# Simulate the game 10,000 times\n",
    "for i in range(10000):\n",
    "    # Shuffle the doors\n",
    "    random.shuffle(doors)\n",
    "    \n",
    "    # Set up the players\n",
    "    switcher = False\n",
    "    conservative = False\n",
    "    newcomer = True\n",
    "    \n",
    "    # Choose the initial door\n",
    "    initial_choice = random.randint(0, 2)\n",
    "    \n",
    "    # Set up the switcher player\n",
    "    if doors[initial_choice] == 'goat':\n",
    "        switcher = True\n",
    "    \n",
    "    # Set up the conservative player\n",
    "    if doors[initial_choice] == 'car':\n",
    "        conservative = True\n",
    "    \n",
    "    # Open one of the other doors to reveal a goat\n",
    "    for j in range(3):\n",
    "        if j != initial_choice and doors[j] == 'goat':\n",
    "            opened_door = j\n",
    "            break\n",
    "    \n",
    "    # Set up the switcher player's final choice\n",
    "    if switcher:\n",
    "        for j in range(3):\n",
    "            if j != initial_choice and j != opened_door:\n",
    "                switcher_choice = j\n",
    "                break\n",
    "    \n",
    "    # Set up the newcomer player's final choice\n",
    "    if newcomer:\n",
    "        options = [j for j in range(3) if j != opened_door]\n",
    "        newcomer_choice = random.choice(options)\n",
    "    \n",
    "    # Determine the winner\n",
    "    if switcher and doors[switcher_choice] == 'car':\n",
    "        wins['switcher'] += 1\n",
    "    if conservative and doors[initial_choice] == 'car':\n",
    "        wins['conservative'] += 1\n",
    "    if newcomer and doors[newcomer_choice] == 'car':\n",
    "        wins['newcomer'] += 1\n",
    "\n",
    "# Print the results\n",
    "print(\"Switcher wins probability:\", wins['switcher']/100)\n",
    "print(\"Conservative wins probability:\", wins['conservative']/100)\n",
    "print(\"Newcomer wins probability:\", wins['newcomer']/100)"
   ]
  },
  {
   "cell_type": "code",
   "execution_count": null,
   "id": "6e5923ee",
   "metadata": {},
   "outputs": [],
   "source": []
  }
 ],
 "metadata": {
  "kernelspec": {
   "display_name": "Python 3 (ipykernel)",
   "language": "python",
   "name": "python3"
  },
  "language_info": {
   "codemirror_mode": {
    "name": "ipython",
    "version": 3
   },
   "file_extension": ".py",
   "mimetype": "text/x-python",
   "name": "python",
   "nbconvert_exporter": "python",
   "pygments_lexer": "ipython3",
   "version": "3.10.4"
  }
 },
 "nbformat": 4,
 "nbformat_minor": 5
}
