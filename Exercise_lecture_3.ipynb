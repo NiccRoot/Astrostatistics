{
 "cells": [
  {
   "cell_type": "code",
   "execution_count": 1,
   "id": "7fc8dd16",
   "metadata": {},
   "outputs": [
    {
     "name": "stderr",
     "output_type": "stream",
     "text": [
      "C:\\Users\\Dell\\AppData\\Local\\Programs\\Python\\Python310\\lib\\site-packages\\scipy\\__init__.py:146: UserWarning: A NumPy version >=1.16.5 and <1.23.0 is required for this version of SciPy (detected version 1.23.5\n",
      "  warnings.warn(f\"A NumPy version >={np_minversion} and <{np_maxversion}\"\n"
     ]
    },
    {
     "name": "stdout",
     "output_type": "stream",
     "text": [
      "downloading DR7 quasar dataset from http://das.sdss.org/va/qsocat/dr7qso.dat.gz to C:\\Users\\Dell\\astroML_data\n",
      "Downloading http://das.sdss.org/va/qsocat/dr7qso.dat.gz\n",
      "[=========================================]  12.82Mb / 12.82Mb   \n"
     ]
    }
   ],
   "source": [
    "from astroML.datasets import fetch_dr7_quasar\n",
    "\n",
    "# Fetch the quasar data\n",
    "data = fetch_dr7_quasar()\n",
    "\n",
    "# select the first 10000 points\n",
    "data = data[:10000]\n",
    "\n",
    "z = data['redshift']"
   ]
  },
  {
   "cell_type": "code",
   "execution_count": 11,
   "id": "7efe3e77",
   "metadata": {},
   "outputs": [],
   "source": [
    "import pylab as plt"
   ]
  },
  {
   "cell_type": "code",
   "execution_count": 20,
   "id": "8d7c9ae9",
   "metadata": {},
   "outputs": [
    {
     "data": {
      "image/png": "[encoded data removed]",
      "text/plain": [
       "<Figure size 432x288 with 1 Axes>"
      ]
     },
     "metadata": {
      "needs_background": "light"
     },
     "output_type": "display_data"
    }
   ],
   "source": [
    "plt.hist(z, bins = 50, histtype = 'step', density = True)\n",
    "plt.show()"
   ]
  },
  {
   "cell_type": "code",
   "execution_count": 59,
   "id": "997228ab",
   "metadata": {},
   "outputs": [
    {
     "data": {
      "image/png": "[encoded data removed]",
      "text/plain": [
       "<Figure size 432x288 with 1 Axes>"
      ]
     },
     "metadata": {
      "needs_background": "light"
     },
     "output_type": "display_data"
    },
    {
     "data": {
      "text/plain": [
       "18.750117890840645"
      ]
     },
     "execution_count": 59,
     "metadata": {},
     "output_type": "execute_result"
    }
   ],
   "source": [
    "import numpy as np\n",
    "NBIN = 100\n",
    "plt.hist(z, bins = NBIN, histtype = 'step', density = True)\n",
    "plt.show()\n",
    "a, b = np.histogram(z, bins=NBIN, density = True)\n",
    "np.sum(a)"
   ]
  },
  {
   "cell_type": "markdown",
   "id": "12ea6621",
   "metadata": {},
   "source": [
    "### Cloning by inverse transform"
   ]
  },
  {
   "cell_type": "code",
   "execution_count": 64,
   "id": "fee364b7",
   "metadata": {},
   "outputs": [
    {
     "data": {
      "image/png": "[encoded data removed]",
      "text/plain": [
       "<Figure size 432x288 with 1 Axes>"
      ]
     },
     "metadata": {
      "needs_background": "light"
     },
     "output_type": "display_data"
    }
   ],
   "source": [
    "import scipy\n",
    "plt.hist(z,bins=50,histtype='step',density=True,label='original data')\n",
    "counts, bins = np.histogram(z, bins=50, density=True)\n",
    "\n",
    "bin_mids = (bins[1:] + bins[:-1]) / 2 # mid location of bins\n",
    "simple_cdf = np.cumsum(counts) / np.sum(counts) # very simply cumulative sum\n",
    "\n",
    "# set up an interpolation of the inverse cumulative distribution\n",
    "tck = scipy.interpolate.interp1d(simple_cdf, bin_mids)\n",
    "u = np.random.uniform(min(simple_cdf),max(simple_cdf), 1000000) \n",
    "x_sample = tck(u)\n",
    "\n",
    "plt.hist(x_sample, bins=100, density=True, histtype='step',label='cloned data');\n",
    "\n",
    "plt.legend();"
   ]
  },
  {
   "cell_type": "markdown",
   "id": "6a5df328",
   "metadata": {},
   "source": [
    "### Cloning by rejection sempling"
   ]
  },
  {
   "cell_type": "code",
   "execution_count": 46,
   "id": "427f81fa",
   "metadata": {},
   "outputs": [
    {
     "data": {
      "image/png": "[encoded data removed]",
      "text/plain": [
       "<Figure size 432x288 with 1 Axes>"
      ]
     },
     "metadata": {
      "needs_background": "light"
     },
     "output_type": "display_data"
    }
   ],
   "source": [
    "maxh = counts.max() # find the maximum\n",
    "plt.hist(z,bins=50,histtype='step',density=True,label='original data');\n",
    "\n",
    "# make a simple histogram object\n",
    "counts, bins = np.histogram(z, bins=50, density=True)\n",
    "maxh = counts.max() # find the maximum\n",
    "\n",
    "# Make a scipy.stats random variable object from a histogram\n",
    "# This is a great hack!\n",
    "disth = scipy.stats.rv_histogram((counts,bins))\n",
    "# Let's do it manually again\n",
    "N = 100000 # trials\n",
    "q = np.random.uniform(0, 6, N) # proposed points\n",
    "u = np.random.uniform(0, maxh, N) # uniform draws\n",
    "\n",
    "mask = u<=disth.pdf(q) # assess whether u <= q(x_i)\n",
    "\n",
    "monte_carlo = q[mask] # reject all points that don't pass, using masking\n",
    "\n",
    "plt.hist(monte_carlo, bins=50, density=True,histtype='step',label='cloned data 1');\n",
    "\n",
    "### But scipy has it already implemented \n",
    "plt.hist(disth.rvs(size=N),bins=50,density=True,histtype='step',label='cloned data 2');\n",
    "\n",
    "plt.legend();"
   ]
  },
  {
   "cell_type": "code",
   "execution_count": null,
   "id": "c9007739",
   "metadata": {},
   "outputs": [],
   "source": []
  }
 ],
 "metadata": {
  "kernelspec": {
   "display_name": "Python 3 (ipykernel)",
   "language": "python",
   "name": "python3"
  },
  "language_info": {
   "codemirror_mode": {
    "name": "ipython",
    "version": 3
   },
   "file_extension": ".py",
   "mimetype": "text/x-python",
   "name": "python",
   "nbconvert_exporter": "python",
   "pygments_lexer": "ipython3",
   "version": "3.10.4"
  }
 },
 "nbformat": 4,
 "nbformat_minor": 5
}
